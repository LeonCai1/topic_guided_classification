{
 "cells": [
  {
   "cell_type": "markdown",
   "id": "e9a7b479",
   "metadata": {},
   "source": [
    "# Step 1"
   ]
  },
  {
   "cell_type": "code",
   "execution_count": 9,
   "id": "initial_id",
   "metadata": {
    "ExecuteTime": {
     "end_time": "2023-10-18T03:42:45.261453561Z",
     "start_time": "2023-10-18T03:42:45.112143826Z"
    }
   },
   "outputs": [
    {
     "name": "stdout",
     "output_type": "stream",
     "text": [
      "AutoPhrase  CatE.ipynb\tdata\r\n"
     ]
    }
   ],
   "source": [
    "!ls"
   ]
  },
  {
   "cell_type": "markdown",
   "id": "ff1ff98e",
   "metadata": {},
   "source": [
    "## concat train and test"
   ]
  },
  {
   "cell_type": "code",
   "execution_count": 7,
   "id": "87f5f161368bb30e",
   "metadata": {
    "ExecuteTime": {
     "end_time": "2023-10-18T03:41:32.835609614Z",
     "start_time": "2023-10-18T03:41:32.675528018Z"
    }
   },
   "outputs": [],
   "source": [
    "!cat data/news_train.txt data/news_test.txt>data/news_combined.txt"
   ]
  },
  {
   "cell_type": "code",
   "execution_count": 8,
   "id": "2c88c819",
   "metadata": {
    "ExecuteTime": {
     "end_time": "2023-10-18T03:42:26.262388991Z",
     "start_time": "2023-10-18T03:42:26.064920698Z"
    }
   },
   "outputs": [],
   "source": [
    "!cat data/movies_train.txt data/movies_test.txt>data/movies_combined.txt"
   ]
  },
  {
   "cell_type": "markdown",
   "id": "869573a8",
   "metadata": {},
   "source": [
    "## run autophrase"
   ]
  },
  {
   "cell_type": "code",
   "execution_count": 10,
   "id": "7d94996d",
   "metadata": {},
   "outputs": [],
   "source": [
    "!cp data/news_combined.txt AutoPhrase/data\n",
    "!cp data/movies_combined.txt AutoPhrase/data"
   ]
  },
  {
   "cell_type": "markdown",
   "id": "eb7d32b1",
   "metadata": {},
   "source": [
    "### run for news"
   ]
  },
  {
   "cell_type": "markdown",
   "id": "1052f3d4",
   "metadata": {},
   "source": [
    "change to autophrase folder, then\n",
    "\n",
    "**sudo ./auto_phrase.sh RAW_TRAIN = data/news_combined.txt**\n",
    "\n",
    "changed TEXT_TO_SEG = data/news_combined.txt HIGHLIGHT_MULTI=0.7 HIGHLIGHT_SINGLE=1.0 in phrasal_segmentation.sh file\n",
    "\n",
    "**sudo ./phrasal_segmentation.sh**"
   ]
  },
  {
   "cell_type": "markdown",
   "id": "d551283c",
   "metadata": {},
   "source": [
    "### run for movies"
   ]
  },
  {
   "cell_type": "markdown",
   "id": "d8e85cc5",
   "metadata": {},
   "source": [
    "change to autophrase folder, then\n",
    "\n",
    "**sudo ./auto_phrase.sh RAW_TRAIN = data/movies_combined.txt**\n",
    "\n",
    "changed TEXT_TO_SEG = data/movies_combined.txt HIGHLIGHT_MULTI=0.7 HIGHLIGHT_SINGLE=1.0 in phrasal_segmentation.sh file\n",
    "\n",
    "**sudo ./phrasal_segmentation.sh**"
   ]
  },
  {
   "cell_type": "markdown",
   "id": "780437e1",
   "metadata": {},
   "source": [
    "# Step 2"
   ]
  },
  {
   "cell_type": "code",
   "execution_count": null,
   "id": "0b8670bd",
   "metadata": {},
   "outputs": [],
   "source": []
  }
 ],
 "metadata": {
  "kernelspec": {
   "display_name": "Python 3 (ipykernel)",
   "language": "python",
   "name": "python3"
  },
  "language_info": {
   "codemirror_mode": {
    "name": "ipython",
    "version": 3
   },
   "file_extension": ".py",
   "mimetype": "text/x-python",
   "name": "python",
   "nbconvert_exporter": "python",
   "pygments_lexer": "ipython3",
   "version": "3.11.5"
  }
 },
 "nbformat": 4,
 "nbformat_minor": 5
}
